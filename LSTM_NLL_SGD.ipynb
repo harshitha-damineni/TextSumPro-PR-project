{
 "cells": [
  {
   "cell_type": "code",
   "execution_count": 1,
   "id": "032d6c90-59b3-44f9-8fd8-cf7f36510cb8",
   "metadata": {},
   "outputs": [
    {
     "name": "stdout",
     "output_type": "stream",
     "text": [
      "Defaulting to user installation because normal site-packages is not writeable\n",
      "Requirement already satisfied: datasets in ./.local/lib/python3.8/site-packages (2.14.2)\n",
      "Requirement already satisfied: huggingface-hub<1.0.0,>=0.14.0 in ./.local/lib/python3.8/site-packages (from datasets) (0.16.4)\n",
      "Requirement already satisfied: pyarrow>=8.0.0 in ./.local/lib/python3.8/site-packages (from datasets) (12.0.1)\n",
      "Requirement already satisfied: dill<0.3.8,>=0.3.0 in ./.local/lib/python3.8/site-packages (from datasets) (0.3.7)\n",
      "Requirement already satisfied: xxhash in ./.local/lib/python3.8/site-packages (from datasets) (3.3.0)\n",
      "Requirement already satisfied: numpy>=1.17 in ./.local/lib/python3.8/site-packages (from datasets) (1.23.5)\n",
      "Requirement already satisfied: pyyaml>=5.1 in /usr/lib/python3/dist-packages (from datasets) (5.3.1)\n",
      "Requirement already satisfied: tqdm>=4.62.1 in ./.local/lib/python3.8/site-packages (from datasets) (4.64.1)\n",
      "Requirement already satisfied: multiprocess in ./.local/lib/python3.8/site-packages (from datasets) (0.70.15)\n",
      "Requirement already satisfied: requests>=2.19.0 in ./.local/lib/python3.8/site-packages (from datasets) (2.28.2)\n",
      "Requirement already satisfied: fsspec[http]>=2021.11.1 in ./.local/lib/python3.8/site-packages (from datasets) (2023.6.0)\n",
      "Requirement already satisfied: packaging in ./.local/lib/python3.8/site-packages (from datasets) (23.0)\n",
      "Requirement already satisfied: pandas in ./.local/lib/python3.8/site-packages (from datasets) (1.5.3)\n",
      "Requirement already satisfied: aiohttp in ./.local/lib/python3.8/site-packages (from datasets) (3.8.5)\n",
      "Requirement already satisfied: async-timeout<5.0,>=4.0.0a3 in ./.local/lib/python3.8/site-packages (from aiohttp->datasets) (4.0.2)\n",
      "Requirement already satisfied: aiosignal>=1.1.2 in ./.local/lib/python3.8/site-packages (from aiohttp->datasets) (1.3.1)\n",
      "Requirement already satisfied: yarl<2.0,>=1.0 in ./.local/lib/python3.8/site-packages (from aiohttp->datasets) (1.9.2)\n",
      "Requirement already satisfied: multidict<7.0,>=4.5 in ./.local/lib/python3.8/site-packages (from aiohttp->datasets) (6.0.4)\n",
      "Requirement already satisfied: frozenlist>=1.1.1 in ./.local/lib/python3.8/site-packages (from aiohttp->datasets) (1.4.0)\n",
      "Requirement already satisfied: attrs>=17.3.0 in /usr/lib/python3/dist-packages (from aiohttp->datasets) (19.3.0)\n",
      "Requirement already satisfied: charset-normalizer<4.0,>=2.0 in ./.local/lib/python3.8/site-packages (from aiohttp->datasets) (3.1.0)\n",
      "Requirement already satisfied: typing-extensions>=3.7.4.3 in ./.local/lib/python3.8/site-packages (from huggingface-hub<1.0.0,>=0.14.0->datasets) (4.5.0)\n",
      "Requirement already satisfied: filelock in /usr/lib/python3/dist-packages (from huggingface-hub<1.0.0,>=0.14.0->datasets) (3.0.12)\n",
      "Requirement already satisfied: certifi>=2017.4.17 in /usr/lib/python3/dist-packages (from requests>=2.19.0->datasets) (2019.11.28)\n",
      "Requirement already satisfied: urllib3<1.27,>=1.21.1 in /usr/lib/python3/dist-packages (from requests>=2.19.0->datasets) (1.25.8)\n",
      "Requirement already satisfied: idna<4,>=2.5 in /usr/lib/python3/dist-packages (from requests>=2.19.0->datasets) (2.8)\n",
      "Requirement already satisfied: python-dateutil>=2.8.1 in ./.local/lib/python3.8/site-packages (from pandas->datasets) (2.8.2)\n",
      "Requirement already satisfied: pytz>=2020.1 in ./.local/lib/python3.8/site-packages (from pandas->datasets) (2022.7.1)\n",
      "Requirement already satisfied: six>=1.5 in /usr/lib/python3/dist-packages (from python-dateutil>=2.8.1->pandas->datasets) (1.14.0)\n",
      "\n",
      "\u001b[1m[\u001b[0m\u001b[34;49mnotice\u001b[0m\u001b[1;39;49m]\u001b[0m\u001b[39;49m A new release of pip is available: \u001b[0m\u001b[31;49m23.0.1\u001b[0m\u001b[39;49m -> \u001b[0m\u001b[32;49m23.2.1\u001b[0m\n",
      "\u001b[1m[\u001b[0m\u001b[34;49mnotice\u001b[0m\u001b[1;39;49m]\u001b[0m\u001b[39;49m To update, run: \u001b[0m\u001b[32;49mpython3 -m pip install --upgrade pip\u001b[0m\n"
     ]
    }
   ],
   "source": [
    "import torch\n",
    "from torch import nn\n",
    "from torch.utils.data import DataLoader\n",
    "from torchvision import datasets\n",
    "from torchvision.transforms import ToTensor\n",
    "from sklearn.model_selection import train_test_split\n",
    "import requests\n",
    "import torch.nn as nn\n",
    "import torch.optim as optim\n",
    "import random\n",
    "!pip install datasets"
   ]
  },
  {
   "cell_type": "code",
   "execution_count": 2,
   "id": "a38339cb-ee8a-4e75-9810-f8bd15f6cc2b",
   "metadata": {},
   "outputs": [
    {
     "name": "stderr",
     "output_type": "stream",
     "text": [
      "/home/ubuntu/.local/lib/python3.8/site-packages/pandas/core/computation/expressions.py:20: UserWarning: Pandas requires version '2.7.3' or newer of 'numexpr' (version '2.7.1' currently installed).\n",
      "  from pandas.core.computation.check import NUMEXPR_INSTALLED\n",
      "[nltk_data] Downloading package punkt to /home/ubuntu/nltk_data...\n",
      "[nltk_data]   Package punkt is already up-to-date!\n"
     ]
    }
   ],
   "source": [
    "from nltk.tokenize import sent_tokenize, word_tokenize\n",
    "from datasets import load_dataset\n",
    "import nltk\n",
    "nltk.download('punkt')\n",
    "\n",
    "dataset = load_dataset('cnn_dailymail', '3.0.0', split=\"train[:1500]\") \n",
    "\n",
    "train_data = dataset\n",
    "val_data = load_dataset('cnn_dailymail', '3.0.0', split=\"validation[:500]\") \n",
    "test_data = load_dataset('cnn_dailymail', '3.0.0', split=\"test[:500]\")  \n",
    "\n",
    "def preprocess_text(text):\n",
    "    sentences = sent_tokenize(text)\n",
    "    tokenized_sentences = [word_tokenize(sent) for sent in sentences]\n",
    "    return tokenized_sentences\n",
    "\n",
    "train_summaries = [example['highlights'] for example in train_data]\n",
    "train_texts = [example['article'] for example in train_data]\n",
    "\n",
    "val_summaries = [example['highlights'] for example in val_data]\n",
    "val_texts = [example['article'] for example in val_data]\n",
    "\n",
    "test_summaries = [example['highlights'] for example in test_data]\n",
    "test_texts = [example['article'] for example in test_data]"
   ]
  },
  {
   "cell_type": "code",
   "execution_count": 3,
   "id": "5624c551-8a33-4a09-a806-3de224649ad6",
   "metadata": {},
   "outputs": [
    {
     "name": "stderr",
     "output_type": "stream",
     "text": [
      "[nltk_data] Downloading package punkt to /home/ubuntu/nltk_data...\n",
      "[nltk_data]   Package punkt is already up-to-date!\n"
     ]
    }
   ],
   "source": [
    "import nltk\n",
    "nltk.download('punkt')\n",
    "from nltk.tokenize import word_tokenize\n",
    "from collections import Counter\n",
    "import torch\n",
    "import torch.nn as nn\n",
    "from torch.utils.data import Dataset, DataLoader\n",
    "\n",
    "class CustomDataset(Dataset):\n",
    "    def __init__(self, sequences_input, sequences_target, max_length):\n",
    "        self.sequences_input = sequences_input\n",
    "        self.sequences_target = sequences_target\n",
    "        self.max_length = max_length\n",
    "\n",
    "    def __len__(self):\n",
    "        return len(self.sequences_input)\n",
    "\n",
    "    def __getitem__(self, index):\n",
    "        input_sequence = self.sequences_input[index]\n",
    "        target_summary = self.sequences_target[index]\n",
    "\n",
    "        input_sequence = self.pad_sequence(input_sequence, self.max_length)\n",
    "        target_summary = self.pad_sequence(target_summary, self.max_length)\n",
    "\n",
    "        input_tensor = torch.tensor(input_sequence, dtype=torch.long)\n",
    "        target_tensor = torch.tensor(target_summary, dtype=torch.long)\n",
    "\n",
    "        return input_tensor, target_tensor\n",
    "\n",
    "    def pad_sequence(self, sequence, max_length):\n",
    "        if len(sequence) < max_length:\n",
    "            sequence = sequence + [0] * (max_length - len(sequence))\n",
    "        else:\n",
    "            sequence = sequence[:max_length]\n",
    "        return sequence\n",
    "\n",
    "def sentence_to_sequence(sentence, vocab):\n",
    "    return [vocab[word] for word in sentence if word in vocab]\n",
    "\n",
    "import nltk\n",
    "from collections import Counter\n",
    "\n",
    "vocab_input = {}\n",
    "vocab_target = {}\n",
    "\n",
    "word_counter_input = Counter(word for text in train_texts for word in nltk.word_tokenize(text))\n",
    "word_counter_target = Counter(word for summary in train_summaries for word in nltk.word_tokenize(summary))\n",
    "\n",
    "for word, count in word_counter_input.items():\n",
    "    if word not in vocab_input:\n",
    "        vocab_input[word] = len(vocab_input)\n",
    "\n",
    "for word, count in word_counter_target.items():\n",
    "    if word not in vocab_target:\n",
    "        vocab_target[word] = len(vocab_target)\n",
    "\n",
    "train_sequences_input = [sentence_to_sequence(word_tokenize(text), vocab_input) for text in train_texts]\n",
    "val_sequences_input = [sentence_to_sequence(word_tokenize(text), vocab_input) for text in val_texts]\n",
    "test_sequences_input = [sentence_to_sequence(word_tokenize(text), vocab_input) for text in test_texts]\n",
    "\n",
    "train_sequences_target = [sentence_to_sequence(word_tokenize(summary), vocab_target) for summary in train_summaries]\n",
    "val_sequences_target = [sentence_to_sequence(word_tokenize(summary), vocab_target) for summary in val_summaries]\n",
    "test_sequences_target = [sentence_to_sequence(word_tokenize(summary), vocab_target) for summary in test_summaries]\n",
    "\n",
    "max_length = 128\n",
    "max_summary_length = 100\n",
    "\n",
    "train_dataset = CustomDataset(train_sequences_input, train_sequences_target, max_length)\n",
    "val_dataset = CustomDataset(val_sequences_input, val_sequences_target, max_length)\n",
    "test_dataset = CustomDataset(test_sequences_input, test_sequences_target, max_length)\n",
    "\n",
    "batch_size = 32\n",
    "\n",
    "train_loader = DataLoader(train_dataset, batch_size=batch_size, shuffle=True)\n",
    "val_loader = DataLoader(val_dataset, batch_size=batch_size)\n",
    "test_loader = DataLoader(test_dataset, batch_size=batch_size)\n",
    "\n",
    "class LSTMModel(nn.Module):\n",
    "    def __init__(self, input_dim, emb_dim, hid_dim, n_layers, dropout):\n",
    "        super(LSTMModel, self).__init__()\n",
    "        self.hid_dim = hid_dim\n",
    "        self.n_layers = n_layers\n",
    "        self.embedding = nn.Embedding(input_dim, emb_dim)\n",
    "        self.rnn = nn.LSTM(emb_dim, hid_dim, n_layers, batch_first=True, dropout=dropout)\n",
    "        self.fc_out = nn.Linear(hid_dim, input_dim)\n",
    "        self.dropout = nn.Dropout(dropout)\n",
    "\n",
    "    def forward(self, src):\n",
    "        embedded = self.dropout(self.embedding(src))\n",
    "        outputs, (hidden, cell) = self.rnn(embedded)\n",
    "        prediction = self.fc_out(outputs)\n",
    "        return prediction\n",
    "\n",
    "device = torch.device('cuda' if torch.cuda.is_available() else 'cpu')\n",
    "\n",
    "encoder_input_dim = len(vocab_input)\n",
    "decoder_output_dim = len(vocab_target)\n",
    "embedding_dim = 100\n",
    "hidden_dim = 256\n",
    "num_layers = 2\n",
    "dropout = 0.5\n",
    "\n",
    "lstm_model = LSTMModel(encoder_input_dim, embedding_dim, hidden_dim, num_layers, dropout).to(device)\n",
    "\n",
    "criterion = nn.NLLLoss()\n",
    "optimizer = torch.optim.SGD(lstm_model.parameters(), lr=0.01)"
   ]
  },
  {
   "cell_type": "markdown",
   "id": "8ffbebc4-c0c1-4738-ae06-63f3b1f4f614",
   "metadata": {},
   "source": [
    "Epochs: 10"
   ]
  },
  {
   "cell_type": "code",
   "execution_count": 4,
   "id": "f82e42f9-c101-41a4-852b-ec01049cac45",
   "metadata": {},
   "outputs": [
    {
     "name": "stdout",
     "output_type": "stream",
     "text": [
      "Epoch [1/10] Train Loss: -0.1244 Validation Loss: -0.3229\n",
      "Epoch [2/10] Train Loss: -0.4240 Validation Loss: -0.7135\n",
      "Epoch [3/10] Train Loss: -0.7995 Validation Loss: -1.2527\n",
      "Epoch [4/10] Train Loss: -1.3993 Validation Loss: -2.2825\n",
      "Epoch [5/10] Train Loss: -3.0819 Validation Loss: -6.4529\n",
      "Epoch [6/10] Train Loss: -13.7540 Validation Loss: -34.0452\n",
      "Epoch [7/10] Train Loss: -50.2577 Validation Loss: -87.5487\n",
      "Epoch [8/10] Train Loss: -97.2863 Validation Loss: -144.6071\n",
      "Epoch [9/10] Train Loss: -145.7291 Validation Loss: -202.2649\n",
      "Epoch [10/10] Train Loss: -194.4652 Validation Loss: -260.1542\n"
     ]
    }
   ],
   "source": [
    "l1=[]\n",
    "l2=[]\n",
    "def train_model(model, dataloader, criterion, optimizer, device):\n",
    "    model.train()\n",
    "    total_loss = 0.0\n",
    "    for batch_inputs, batch_targets in dataloader:\n",
    "        torch.cuda.empty_cache()\n",
    "        batch_inputs, batch_targets = batch_inputs.to(device), batch_targets.to(device)\n",
    "        optimizer.zero_grad()\n",
    "        outputs = model(batch_inputs)\n",
    "        torch.cuda.empty_cache()\n",
    "        outputs = outputs.view(-1, outputs.size(2))\n",
    "        batch_targets = batch_targets.view(-1)\n",
    "        loss = criterion(outputs, batch_targets)\n",
    "        torch.cuda.empty_cache()\n",
    "        loss.backward()\n",
    "        optimizer.step()\n",
    "        total_loss += loss.item()\n",
    "        torch.cuda.empty_cache()\n",
    "    l1.append(total_loss / len(dataloader))\n",
    "    return total_loss / len(dataloader)\n",
    "\n",
    "\n",
    "def validate_model(model, dataloader, criterion, device):\n",
    "    model.eval()\n",
    "    total_loss = 0.0\n",
    "    with torch.no_grad():\n",
    "        for batch_inputs, batch_targets in dataloader:\n",
    "            torch.cuda.empty_cache()\n",
    "            batch_inputs, batch_targets = batch_inputs.to(device), batch_targets.to(device)\n",
    "            outputs = model(batch_inputs)\n",
    "            torch.cuda.empty_cache()\n",
    "            outputs = outputs.view(-1, outputs.size(2))\n",
    "            batch_targets = batch_targets.view(-1)\n",
    "            loss = criterion(outputs, batch_targets)\n",
    "            total_loss += loss.item()\n",
    "            torch.cuda.empty_cache()\n",
    "    l2.append(total_loss / len(dataloader))\n",
    "    return total_loss / len(dataloader)\n",
    "\n",
    "\n",
    "num_epochs = 10\n",
    "for epoch in range(num_epochs):\n",
    "    train_loss = train_model(lstm_model, train_loader, criterion, optimizer, device)\n",
    "    validation_loss = validate_model(lstm_model, val_loader, criterion, device)\n",
    "    torch.cuda.empty_cache()\n",
    "    print(f\"Epoch [{epoch + 1}/{num_epochs}] Train Loss: {train_loss:.4f} Validation Loss: {validation_loss:.4f}\")"
   ]
  },
  {
   "cell_type": "code",
   "execution_count": 5,
   "id": "8ce8c4cf-4fed-4b01-97ca-8effd3521b99",
   "metadata": {},
   "outputs": [
    {
     "name": "stdout",
     "output_type": "stream",
     "text": [
      "Test Accuracy: 74.326563\n"
     ]
    }
   ],
   "source": [
    "def evaluate_model(model, dataloader, device):\n",
    "    model.eval()\n",
    "    total_correct = 0\n",
    "    total_samples = 0\n",
    "\n",
    "    with torch.no_grad():\n",
    "        for batch_inputs, batch_targets in dataloader:\n",
    "            batch_inputs, batch_targets = batch_inputs.to(device), batch_targets.to(device)\n",
    "            outputs = model(batch_inputs)\n",
    "            _, predicted = torch.max(outputs, 2)\n",
    "            total_correct += (predicted == batch_targets).sum().item()\n",
    "            total_samples += batch_targets.numel()\n",
    "\n",
    "    accuracy = total_correct / total_samples\n",
    "    return accuracy\n",
    "\n",
    "accuracy = evaluate_model(lstm_model, test_loader, device)\n",
    "print(f\"Test Accuracy: {accuracy*100:.6f}\")"
   ]
  },
  {
   "cell_type": "code",
   "execution_count": 6,
   "id": "8c12235b-6f37-4e50-ae37-bf7553bcd459",
   "metadata": {},
   "outputs": [
    {
     "name": "stdout",
     "output_type": "stream",
     "text": [
      "Validation Accuracy: 75.348438\n"
     ]
    }
   ],
   "source": [
    "def evaluate_model(model, dataloader, device):\n",
    "    model.eval()\n",
    "    total_correct = 0\n",
    "    total_samples = 0\n",
    "\n",
    "    with torch.no_grad():\n",
    "        for batch_inputs, batch_targets in dataloader:\n",
    "            batch_inputs, batch_targets = batch_inputs.to(device), batch_targets.to(device)\n",
    "            outputs = model(batch_inputs)\n",
    "            _, predicted = torch.max(outputs, 2)\n",
    "            total_correct += (predicted == batch_targets).sum().item()\n",
    "            total_samples += batch_targets.numel()\n",
    "\n",
    "    accuracy = total_correct / total_samples\n",
    "    return accuracy\n",
    "\n",
    "accuracy = evaluate_model(lstm_model, val_loader, device)\n",
    "print(f\"Validation Accuracy: {accuracy*100:.6f}\")"
   ]
  },
  {
   "cell_type": "code",
   "execution_count": 7,
   "id": "a935e4e9-8d84-41b0-bef6-4bdf552ee13e",
   "metadata": {},
   "outputs": [
    {
     "name": "stdout",
     "output_type": "stream",
     "text": [
      "Train Accuracy: 63.525000\n"
     ]
    }
   ],
   "source": [
    "def evaluate_model(model, dataloader, device):\n",
    "    model.eval()\n",
    "    total_correct = 0\n",
    "    total_samples = 0\n",
    "\n",
    "    with torch.no_grad():\n",
    "        for batch_inputs, batch_targets in dataloader:\n",
    "            batch_inputs, batch_targets = batch_inputs.to(device), batch_targets.to(device)\n",
    "            outputs = model(batch_inputs)\n",
    "            _, predicted = torch.max(outputs, 2)\n",
    "            total_correct += (predicted == batch_targets).sum().item()\n",
    "            total_samples += batch_targets.numel()\n",
    "\n",
    "    accuracy = total_correct / total_samples\n",
    "    return accuracy\n",
    "\n",
    "accuracy = evaluate_model(lstm_model, train_loader, device)\n",
    "print(f\"Train Accuracy: {accuracy*100:.6f}\")"
   ]
  },
  {
   "cell_type": "code",
   "execution_count": 8,
   "id": "a2fc9c31-8420-4015-8c94-58c6a72bdffb",
   "metadata": {},
   "outputs": [],
   "source": [
    "import matplotlib.pyplot as plt"
   ]
  },
  {
   "cell_type": "code",
   "execution_count": 9,
   "id": "871024f0-d4c7-4df3-bce0-cf966e51f60b",
   "metadata": {},
   "outputs": [
    {
     "data": {
      "text/plain": [
       "Text(0.5, 0.98, 'LSTM MODEL')"
      ]
     },
     "execution_count": 9,
     "metadata": {},
     "output_type": "execute_result"
    },
    {
     "data": {
      "image/png": "[encoded data removed]",
      "text/plain": [
       "<Figure size 432x288 with 1 Axes>"
      ]
     },
     "metadata": {
      "needs_background": "light"
     },
     "output_type": "display_data"
    }
   ],
   "source": [
    "plt.plot(l1, label = \"Train_Loss\")\n",
    "plt.plot(l2, label = \"Validation_Loss\")\n",
    "plt.title(\"Loss Vs No.of Epochs\")\n",
    "plt.xlabel(\"No. of Epochs\")\n",
    "plt.ylabel(\"Loss\")\n",
    "plt.legend()\n",
    "plt.suptitle(\"LSTM MODEL\")"
   ]
  },
  {
   "cell_type": "markdown",
   "id": "eba55630-61db-4d47-a7e9-045b0eff04a9",
   "metadata": {},
   "source": [
    "Epochs: 15"
   ]
  },
  {
   "cell_type": "code",
   "execution_count": 10,
   "id": "14b925cb-f2cc-4387-bdcb-88cb059143df",
   "metadata": {},
   "outputs": [
    {
     "name": "stdout",
     "output_type": "stream",
     "text": [
      "Epoch [1/15] Train Loss: -243.3302 Validation Loss: -318.1098\n",
      "Epoch [2/15] Train Loss: -292.2258 Validation Loss: -376.0690\n",
      "Epoch [3/15] Train Loss: -341.0895 Validation Loss: -434.0263\n",
      "Epoch [4/15] Train Loss: -389.9927 Validation Loss: -491.9883\n",
      "Epoch [5/15] Train Loss: -438.8653 Validation Loss: -549.9491\n",
      "Epoch [6/15] Train Loss: -487.6884 Validation Loss: -607.9041\n",
      "Epoch [7/15] Train Loss: -536.6826 Validation Loss: -665.8722\n",
      "Epoch [8/15] Train Loss: -585.5131 Validation Loss: -723.8343\n",
      "Epoch [9/15] Train Loss: -634.3398 Validation Loss: -781.7915\n",
      "Epoch [10/15] Train Loss: -683.3294 Validation Loss: -839.7582\n",
      "Epoch [11/15] Train Loss: -732.1809 Validation Loss: -897.7223\n",
      "Epoch [12/15] Train Loss: -780.9810 Validation Loss: -955.6809\n",
      "Epoch [13/15] Train Loss: -829.9968 Validation Loss: -1013.6495\n",
      "Epoch [14/15] Train Loss: -878.7147 Validation Loss: -1071.6068\n",
      "Epoch [15/15] Train Loss: -927.6675 Validation Loss: -1129.5688\n"
     ]
    }
   ],
   "source": [
    "l3=[]\n",
    "l4=[]\n",
    "def train_model(model, dataloader, criterion, optimizer, device):\n",
    "    model.train()\n",
    "    total_loss = 0.0\n",
    "    for batch_inputs, batch_targets in dataloader:\n",
    "        torch.cuda.empty_cache()\n",
    "        batch_inputs, batch_targets = batch_inputs.to(device), batch_targets.to(device)\n",
    "        optimizer.zero_grad()\n",
    "        outputs = model(batch_inputs)\n",
    "        torch.cuda.empty_cache()\n",
    "        outputs = outputs.view(-1, outputs.size(2))\n",
    "        batch_targets = batch_targets.view(-1)\n",
    "        loss = criterion(outputs, batch_targets)\n",
    "        torch.cuda.empty_cache()\n",
    "        loss.backward()\n",
    "        optimizer.step()\n",
    "        total_loss += loss.item()\n",
    "        torch.cuda.empty_cache()\n",
    "    l3.append(total_loss / len(dataloader))\n",
    "    return total_loss / len(dataloader)\n",
    "\n",
    "\n",
    "def validate_model(model, dataloader, criterion, device):\n",
    "    model.eval()\n",
    "    total_loss = 0.0\n",
    "    with torch.no_grad():\n",
    "        for batch_inputs, batch_targets in dataloader:\n",
    "            torch.cuda.empty_cache()\n",
    "            batch_inputs, batch_targets = batch_inputs.to(device), batch_targets.to(device)\n",
    "            outputs = model(batch_inputs)\n",
    "            torch.cuda.empty_cache()\n",
    "            outputs = outputs.view(-1, outputs.size(2))\n",
    "            batch_targets = batch_targets.view(-1)\n",
    "            loss = criterion(outputs, batch_targets)\n",
    "            total_loss += loss.item()\n",
    "            torch.cuda.empty_cache()\n",
    "    l4.append(total_loss / len(dataloader))\n",
    "    return total_loss / len(dataloader)\n",
    "\n",
    "\n",
    "num_epochs = 15\n",
    "for epoch in range(num_epochs):\n",
    "    train_loss = train_model(lstm_model, train_loader, criterion, optimizer, device)\n",
    "    validation_loss = validate_model(lstm_model, val_loader, criterion, device)\n",
    "    torch.cuda.empty_cache()\n",
    "    print(f\"Epoch [{epoch + 1}/{num_epochs}] Train Loss: {train_loss:.4f} Validation Loss: {validation_loss:.4f}\")"
   ]
  },
  {
   "cell_type": "code",
   "execution_count": 11,
   "id": "5893a34b-6186-4d71-b4b0-6904aa8d31b7",
   "metadata": {},
   "outputs": [
    {
     "data": {
      "text/plain": [
       "Text(0.5, 0.98, 'LSTM MODEL')"
      ]
     },
     "execution_count": 11,
     "metadata": {},
     "output_type": "execute_result"
    },
    {
     "data": {
      "image/png": "[encoded data removed]",
      "text/plain": [
       "<Figure size 432x288 with 1 Axes>"
      ]
     },
     "metadata": {
      "needs_background": "light"
     },
     "output_type": "display_data"
    }
   ],
   "source": [
    "plt.plot(l3, label = \"Train_Loss\")\n",
    "plt.plot(l4, label = \"Validation_Loss\")\n",
    "plt.title(\"Loss Vs No.of Epochs\")\n",
    "plt.xlabel(\"No. of Epochs\")\n",
    "plt.ylabel(\"Loss\")\n",
    "plt.legend()\n",
    "plt.suptitle(\"LSTM MODEL\")"
   ]
  },
  {
   "cell_type": "markdown",
   "id": "a8cd0006-7a40-4adf-9f58-23546bc054d8",
   "metadata": {},
   "source": [
    "Epochs: 20"
   ]
  },
  {
   "cell_type": "code",
   "execution_count": 12,
   "id": "c459b179-3b2e-4c4e-87b3-d4989b735e60",
   "metadata": {},
   "outputs": [
    {
     "name": "stdout",
     "output_type": "stream",
     "text": [
      "Epoch [1/20] Train Loss: -976.5257 Validation Loss: -1187.5286\n",
      "Epoch [2/20] Train Loss: -1025.3077 Validation Loss: -1245.4829\n",
      "Epoch [3/20] Train Loss: -1074.2803 Validation Loss: -1303.4436\n",
      "Epoch [4/20] Train Loss: -1123.1975 Validation Loss: -1361.4058\n",
      "Epoch [5/20] Train Loss: -1172.1450 Validation Loss: -1419.3717\n",
      "Epoch [6/20] Train Loss: -1221.0835 Validation Loss: -1477.3400\n",
      "Epoch [7/20] Train Loss: -1269.9125 Validation Loss: -1535.3063\n",
      "Epoch [8/20] Train Loss: -1318.7400 Validation Loss: -1593.2704\n",
      "Epoch [9/20] Train Loss: -1367.7685 Validation Loss: -1651.2412\n",
      "Epoch [10/20] Train Loss: -1416.5443 Validation Loss: -1709.2068\n",
      "Epoch [11/20] Train Loss: -1465.3767 Validation Loss: -1767.1692\n",
      "Epoch [12/20] Train Loss: -1514.3118 Validation Loss: -1825.1355\n",
      "Epoch [13/20] Train Loss: -1563.0617 Validation Loss: -1883.0943\n",
      "Epoch [14/20] Train Loss: -1612.0031 Validation Loss: -1941.0582\n",
      "Epoch [15/20] Train Loss: -1660.9684 Validation Loss: -1999.0239\n",
      "Epoch [16/20] Train Loss: -1709.7591 Validation Loss: -2056.9875\n",
      "Epoch [17/20] Train Loss: -1758.6864 Validation Loss: -2114.9518\n",
      "Epoch [18/20] Train Loss: -1807.7522 Validation Loss: -2172.9243\n",
      "Epoch [19/20] Train Loss: -1856.5019 Validation Loss: -2230.8901\n",
      "Epoch [20/20] Train Loss: -1905.4603 Validation Loss: -2288.8599\n"
     ]
    }
   ],
   "source": [
    "l5=[]\n",
    "l6=[]\n",
    "def train_model(model, dataloader, criterion, optimizer, device):\n",
    "    model.train()\n",
    "    total_loss = 0.0\n",
    "    for batch_inputs, batch_targets in dataloader:\n",
    "        torch.cuda.empty_cache()\n",
    "        batch_inputs, batch_targets = batch_inputs.to(device), batch_targets.to(device)\n",
    "        optimizer.zero_grad()\n",
    "        outputs = model(batch_inputs)\n",
    "        torch.cuda.empty_cache()\n",
    "        outputs = outputs.view(-1, outputs.size(2))\n",
    "        batch_targets = batch_targets.view(-1)\n",
    "        loss = criterion(outputs, batch_targets)\n",
    "        torch.cuda.empty_cache()\n",
    "        loss.backward()\n",
    "        optimizer.step()\n",
    "        total_loss += loss.item()\n",
    "        torch.cuda.empty_cache()\n",
    "    l5.append(total_loss / len(dataloader))\n",
    "    return total_loss / len(dataloader)\n",
    "\n",
    "\n",
    "def validate_model(model, dataloader, criterion, device):\n",
    "    model.eval()\n",
    "    total_loss = 0.0\n",
    "    with torch.no_grad():\n",
    "        for batch_inputs, batch_targets in dataloader:\n",
    "            torch.cuda.empty_cache()\n",
    "            batch_inputs, batch_targets = batch_inputs.to(device), batch_targets.to(device)\n",
    "            outputs = model(batch_inputs)\n",
    "            torch.cuda.empty_cache()\n",
    "            outputs = outputs.view(-1, outputs.size(2))\n",
    "            batch_targets = batch_targets.view(-1)\n",
    "            loss = criterion(outputs, batch_targets)\n",
    "            total_loss += loss.item()\n",
    "            torch.cuda.empty_cache()\n",
    "    l6.append(total_loss / len(dataloader))\n",
    "    return total_loss / len(dataloader)\n",
    "\n",
    "\n",
    "num_epochs = 20\n",
    "for epoch in range(num_epochs):\n",
    "    train_loss = train_model(lstm_model, train_loader, criterion, optimizer, device)\n",
    "    validation_loss = validate_model(lstm_model, val_loader, criterion, device)\n",
    "    torch.cuda.empty_cache()\n",
    "    print(f\"Epoch [{epoch + 1}/{num_epochs}] Train Loss: {train_loss:.4f} Validation Loss: {validation_loss:.4f}\")"
   ]
  },
  {
   "cell_type": "code",
   "execution_count": 13,
   "id": "8311462c-9284-47db-8d78-c8d55f8ac512",
   "metadata": {},
   "outputs": [
    {
     "data": {
      "text/plain": [
       "Text(0.5, 0.98, 'LSTM MODEL')"
      ]
     },
     "execution_count": 13,
     "metadata": {},
     "output_type": "execute_result"
    },
    {
     "data": {
      "image/png": "[encoded data removed]",
      "text/plain": [
       "<Figure size 432x288 with 1 Axes>"
      ]
     },
     "metadata": {
      "needs_background": "light"
     },
     "output_type": "display_data"
    }
   ],
   "source": [
    "plt.plot(l5, label = \"Train_Loss\")\n",
    "plt.plot(l6, label = \"Validation_Loss\")\n",
    "plt.title(\"Loss Vs No.of Epochs\")\n",
    "plt.xlabel(\"No. of Epochs\")\n",
    "plt.ylabel(\"Loss\")\n",
    "plt.legend()\n",
    "plt.suptitle(\"LSTM MODEL\")"
   ]
  },
  {
   "cell_type": "code",
   "execution_count": 14,
   "id": "7d8e02a9-1b60-41d9-9dda-8b15308d65e0",
   "metadata": {},
   "outputs": [
    {
     "data": {
      "image/png": "[encoded data removed]",
      "text/plain": [
       "<Figure size 1080x360 with 3 Axes>"
      ]
     },
     "metadata": {
      "needs_background": "light"
     },
     "output_type": "display_data"
    }
   ],
   "source": [
    "fig, axes = plt.subplots(1, 3, figsize=(15, 5))\n",
    "\n",
    "axes[0].plot(l1, label='Train loss', color='red')\n",
    "axes[0].plot(l2, label='Validation loss', color='blue')\n",
    "axes[0].set_title('Epochs: 10')\n",
    "axes[0].set_xlabel('Epoch')\n",
    "axes[0].set_ylabel('Loss')\n",
    "axes[0].legend()\n",
    "\n",
    "axes[1].plot(l3, label='Train loss', color='red')\n",
    "axes[1].plot(l4, label='Validation loss', color='blue')\n",
    "axes[1].set_title('Epochs: 15')\n",
    "axes[1].set_xlabel('Epoch')\n",
    "axes[1].set_ylabel('Loss')\n",
    "axes[1].legend()\n",
    "\n",
    "axes[2].plot(l5, label='Train loss', color='red')\n",
    "axes[2].plot(l6, label='Validation loss', color='blue')\n",
    "axes[2].set_title('Epochs: 20')\n",
    "axes[2].set_xlabel('Epoch')\n",
    "axes[2].set_ylabel('Loss')\n",
    "axes[2].legend()\n",
    "\n",
    "plt.tight_layout()\n",
    "\n",
    "plt.show()"
   ]
  },
  {
   "cell_type": "code",
   "execution_count": null,
   "id": "5f427070-4e9c-4325-bc8b-4c23bda0a3ef",
   "metadata": {},
   "outputs": [],
   "source": []
  }
 ],
 "metadata": {
  "kernelspec": {
   "display_name": "Python 3",
   "language": "python",
   "name": "python3"
  },
  "language_info": {
   "codemirror_mode": {
    "name": "ipython",
    "version": 3
   },
   "file_extension": ".py",
   "mimetype": "text/x-python",
   "name": "python",
   "nbconvert_exporter": "python",
   "pygments_lexer": "ipython3",
   "version": "3.8.10"
  }
 },
 "nbformat": 4,
 "nbformat_minor": 5
}
